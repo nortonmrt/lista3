{
 "cells": [
  {
   "cell_type": "markdown",
   "id": "89d71d29",
   "metadata": {},
   "source": [
    "# Lista 3 - RCO"
   ]
  },
  {
   "cell_type": "markdown",
   "id": "f028ac10",
   "metadata": {},
   "source": [
    "Autor: Norton Martin Reichert Trennepohl"
   ]
  },
  {
   "cell_type": "markdown",
   "id": "6796b712",
   "metadata": {},
   "source": [
    "## Questão 1"
   ]
  },
  {
   "cell_type": "code",
   "execution_count": 1,
   "id": "a84cfe7c",
   "metadata": {},
   "outputs": [],
   "source": [
    "import numpy as np\n",
    "import math\n",
    "import matplotlib.pyplot as plt\n",
    "#this is a comment just to see if it works\n",
    "#comment2"
   ]
  },
  {
   "cell_type": "markdown",
   "id": "05887205",
   "metadata": {},
   "source": [
    "Constantes dadas"
   ]
  },
  {
   "cell_type": "code",
   "execution_count": 2,
   "id": "ca774190",
   "metadata": {},
   "outputs": [],
   "source": [
    "# Direções\n",
    "direc = [math.radians(45),math.radians(0),math.radians(0),math.radians(45)]\n",
    "n = len(direc)\n",
    "#Vetor de carregamentos (elementos não-nulos estão em unidades de N/mm)\n",
    "#carreg = [[Nx],[Ny],[Nxy],[Mx],[My],[Mxy]]\n",
    "carreg = [[1000],[200],[0],[0],[0],[0]]\n",
    "\n",
    "#Espessura da placa\n",
    "h = 3E-3 #m\n",
    "\n",
    "E11 = 19.76E9 #Pa\n",
    "E22 = 1.97E9 #Pa\n",
    "nu12 = 0.35\n",
    "G12 = 0.7E9 #Pa\n",
    "\n",
    "nu21 = (E22*nu12)/E11"
   ]
  },
  {
   "cell_type": "markdown",
   "id": "96bd7f24",
   "metadata": {},
   "source": [
    "Matriz de rigidez"
   ]
  },
  {
   "cell_type": "code",
   "execution_count": 3,
   "id": "cd908377",
   "metadata": {},
   "outputs": [],
   "source": [
    "Q11 = E11/(1-nu12*nu21)\n",
    "Q22 = E22/(1-nu12*nu21)\n",
    "Q66 = G12\n",
    "Q12 = (nu12*E22)/(1-nu12*nu21)\n",
    "Q21 = Q12\n",
    "\n",
    "Q = np.array([[Q11, Q12, 0],[Q21, Q22, 0], [0, 0, Q66]])\n",
    "\n",
    "cos = np.cos(direc)\n",
    "sin = np.sin(direc)\n",
    "\n",
    "# T = np.zeros((1,4))\n",
    "# T_inv = np.zeros((1,4))\n",
    "# Q_dash = np.zeros((1,4))\n",
    "\n",
    "T = [[0],[0],[0],[0]]\n",
    "T_inv = [[0],[0],[0],[0]]\n",
    "Q_dash = [[0],[0],[0],[0]]\n",
    "\n",
    "for i in range(n):\n",
    "    T[i] = np.array([[cos[i]**2, sin[i]**2, 2*sin[i]*cos[i]],[sin[i]**2, cos[i]**2, -2*sin[i]*cos[i]],[-sin[i]*cos[i], sin[i]*cos[i], cos[i]**2-sin[i]**2]])\n",
    "    T_inv[i] = np.linalg.inv(T[i])\n",
    "    Q_dash[i] = T_inv[i]@Q@T[i]"
   ]
  },
  {
   "cell_type": "code",
   "execution_count": 4,
   "id": "dc38468f",
   "metadata": {},
   "outputs": [],
   "source": [
    "z0 = n*h/2\n",
    "A_local = [[0],[0],[0],[0]]\n",
    "A_global = 0\n",
    "for i in range(n):\n",
    "    A_local[i] = Q_dash[i]*(((((n/2)-(i+1))/n)*-h) - (((n/2 - i)/n)*-h))\n",
    "    #A_local[i] = Q_dash[i]*(h/n)\n",
    "    A_global = A_global + A_local[i]\n",
    "    \n",
    "#print(A_global)\n",
    "    \n",
    "B_local = [[0],[0],[0],[0]]\n",
    "B_global = 0\n",
    "for i in range(n):\n",
    "    B_local[i] = 0.5*Q_dash[i]*(((((n/2)-(i+1))/n)*-h)**2 - (((n/2 - i)/n)*-h)**2)\n",
    "    #print(B_local[i])\n",
    "    B_global = B_global + B_local[i]\n",
    "    #print(B_global)\n",
    "#print(B_global)\n",
    "\n",
    "\n",
    "D_local = [0,0,0,0]\n",
    "D_global = 0\n",
    "for i in range(n):\n",
    "    D_local[i] = (1/3)*Q_dash[i]*(((((n/2)-(i+1))/n)*-h)**3 - (((n/2 - i)/n)*-h)**3)\n",
    "    #print(D_local[i])\n",
    "    D_global = D_global + D_local[i]\n",
    "#print(D_global)\n",
    "    \n",
    "linha1 = np.vstack((A_global,B_global))\n",
    "linha2 = np.vstack((B_global,D_global))\n",
    "ABBD = np.hstack((linha1,linha2))\n",
    "#print(ABBD)"
   ]
  },
  {
   "cell_type": "code",
   "execution_count": 5,
   "id": "7e172fb3",
   "metadata": {},
   "outputs": [
    {
     "name": "stdout",
     "output_type": "stream",
     "text": [
      "==============================\n",
      "Resultados lâmina 1:\n",
      "Tensão na lâmina no sistema global de coordenadas (kPa): \n",
      "[[95.7961125 ]\n",
      " [85.92739101]\n",
      " [12.03331885]]\n",
      "Tensão na lâmina no sistema local de coordenadas (kPa):\n",
      "[[102.8950706 ]\n",
      " [ 78.82843291]\n",
      " [ -4.93436074]]\n",
      "Deformação no plano médio da lâmina no sistema global de coordenadas:\n",
      "[[ 2.80505301e-05]\n",
      " [ 1.39523565e-05]\n",
      " [-1.71904555e-05]]\n",
      "Deformação no plano médio da lâmina no sistema local de coordenadas:\n",
      "[[ 3.81098781e-06]\n",
      " [ 3.81918988e-05]\n",
      " [-7.04908677e-06]]\n",
      "==============================\n",
      "Resultados lâmina 2:\n",
      "Tensão na lâmina no sistema global de coordenadas (kPa): \n",
      "[[570.87055417]\n",
      " [ 47.40594232]\n",
      " [-12.03331885]]\n",
      "Tensão na lâmina no sistema local de coordenadas (kPa):\n",
      "[[570.87055417]\n",
      " [ 47.40594232]\n",
      " [-12.03331885]]\n",
      "Deformação no plano médio da lâmina no sistema global de coordenadas:\n",
      "[[ 2.80505301e-05]\n",
      " [ 1.39523565e-05]\n",
      " [-1.71904555e-05]]\n",
      "Deformação no plano médio da lâmina no sistema local de coordenadas:\n",
      "[[ 2.80505301e-05]\n",
      " [ 1.39523565e-05]\n",
      " [-1.71904555e-05]]\n",
      "==============================\n",
      "Resultados lâmina 3:\n",
      "Tensão na lâmina no sistema global de coordenadas (kPa): \n",
      "[[570.87055417]\n",
      " [ 47.40594232]\n",
      " [-12.03331885]]\n",
      "Tensão na lâmina no sistema local de coordenadas (kPa):\n",
      "[[570.87055417]\n",
      " [ 47.40594232]\n",
      " [-12.03331885]]\n",
      "Deformação no plano médio da lâmina no sistema global de coordenadas:\n",
      "[[ 2.80505301e-05]\n",
      " [ 1.39523565e-05]\n",
      " [-1.71904555e-05]]\n",
      "Deformação no plano médio da lâmina no sistema local de coordenadas:\n",
      "[[ 2.80505301e-05]\n",
      " [ 1.39523565e-05]\n",
      " [-1.71904555e-05]]\n",
      "==============================\n",
      "Resultados lâmina 4:\n",
      "Tensão na lâmina no sistema global de coordenadas (kPa): \n",
      "[[95.7961125 ]\n",
      " [85.92739101]\n",
      " [12.03331885]]\n",
      "Tensão na lâmina no sistema local de coordenadas (kPa):\n",
      "[[102.8950706 ]\n",
      " [ 78.82843291]\n",
      " [ -4.93436074]]\n",
      "Deformação no plano médio da lâmina no sistema global de coordenadas:\n",
      "[[ 2.80505301e-05]\n",
      " [ 1.39523565e-05]\n",
      " [-1.71904555e-05]]\n",
      "Deformação no plano médio da lâmina no sistema local de coordenadas:\n",
      "[[ 3.81098781e-06]\n",
      " [ 3.81918988e-05]\n",
      " [-7.04908677e-06]]\n"
     ]
    }
   ],
   "source": [
    "# Passo 5\n",
    "def_curv = [[0],[0],[0],[0],[0],[0]]\n",
    "\n",
    "def_curv = np.linalg.inv(ABBD)@carreg\n",
    "\n",
    "epsilon_0_global = np.vstack((def_curv[0],def_curv[1],def_curv[2]))\n",
    "K_global = np.vstack((def_curv[3],def_curv[4],def_curv[5]))\n",
    "\n",
    "#print(epsilon_0_global)\n",
    "#print(K_global)\n",
    "\n",
    "# Passo 6 (coordenadas z referenciadas no plano médio de cada lâmina)\n",
    "sigma_global = [[0],[0],[0],[0]]\n",
    "sigma_local = [[0],[0],[0],[0]]\n",
    "z = [[0],[0],[0],[0]]\n",
    "epsilon_global = [[0],[0],[0],[0]]\n",
    "epsilon_local = [[0],[0],[0],[0]]\n",
    "y = [[0],[0],[0],[0]]\n",
    "\n",
    "for i in range(n):\n",
    "    z[i] = 0.5*(((((n/2)-(i+1))/n)*-h) + (((n/2 - i)/n)*-h))\n",
    "    #print(z[i])\n",
    "    sigma_global[i] = (Q_dash[i]@(epsilon_0_global + (z[i]*K_global)))*10**(-3)\n",
    "    print(\"==============================\")\n",
    "    print(\"Resultados lâmina %d:\" %(i+1))\n",
    "    print(\"Tensão na lâmina no sistema global de coordenadas (kPa): \")\n",
    "    print(sigma_global[i])\n",
    "    sigma_local[i] = T[i]@sigma_global[i]\n",
    "    print(\"Tensão na lâmina no sistema local de coordenadas (kPa):\")\n",
    "    print(sigma_local[i])\n",
    "    epsilon_global[i] = epsilon_0_global + z[i]*K_global\n",
    "    print(\"Deformação no plano médio da lâmina no sistema global de coordenadas:\")\n",
    "    print(epsilon_global[i])\n",
    "    epsilon_local[i] = T[i]@epsilon_global[i]\n",
    "    print(\"Deformação no plano médio da lâmina no sistema local de coordenadas:\")\n",
    "    print(epsilon_local[i])\n",
    "\n",
    "#comentario adicional de teste\n",
    "    "
   ]
  },
  {
   "cell_type": "code",
   "execution_count": null,
   "id": "965cf971",
   "metadata": {},
   "outputs": [],
   "source": [
    "\n"
   ]
  },
  {
   "cell_type": "code",
   "execution_count": 6,
   "id": "57f92817",
   "metadata": {},
   "outputs": [],
   "source": [
    "### Teste se o resultado era o mesmo pra ABBD\n",
    "\n",
    "# def_curv_2 = [[0],[0],[0],[0],[0],[0]]\n",
    "\n",
    "# A_est = np.linalg.inv(A_global)\n",
    "# B_est = -1*np.linalg.inv(A_global)@B_global\n",
    "# C_est = B_global@np.linalg.inv(A_global)\n",
    "# D_est = D_global-B_global@np.linalg.inv(A_global)@B_global\n",
    "\n",
    "# A_ap = A_est-B_est@np.linalg.inv(D_est)@C_est\n",
    "# B_ap = B_est@np.linalg.inv(D_est)\n",
    "# C_ap = B_ap\n",
    "# D_ap = np.linalg.inv(D_est)\n",
    "\n",
    "# print(B_ap)\n",
    "\n",
    "# linha1_2 = np.vstack((A_ap,B_ap))\n",
    "# linha2_2 = np.vstack((C_ap,D_ap))\n",
    "# ABBD_2 = np.hstack((linha1_2,linha2_2))\n",
    "\n",
    "# def_curv_2 = ABBD_2@carreg\n",
    "# print(def_curv)\n",
    "# print(def_curv_2)\n",
    "\n",
    "\n",
    "\n",
    "\n",
    "# y[i] = epsilon_local[i][1]\n",
    "    \n",
    "# plt.figure()\n",
    "# plt.plot(z, y)"
   ]
  }
 ],
 "metadata": {
  "kernelspec": {
   "display_name": "Python 3.8.8 ('base')",
   "language": "python",
   "name": "python3"
  },
  "language_info": {
   "codemirror_mode": {
    "name": "ipython",
    "version": 3
   },
   "file_extension": ".py",
   "mimetype": "text/x-python",
   "name": "python",
   "nbconvert_exporter": "python",
   "pygments_lexer": "ipython3",
   "version": "3.8.8"
  },
  "vscode": {
   "interpreter": {
    "hash": "108e5f22bfb80c194968c4d8788f0cbe4cd0be3d6d353645b9b42c2d56b0e8e7"
   }
  }
 },
 "nbformat": 4,
 "nbformat_minor": 5
}
