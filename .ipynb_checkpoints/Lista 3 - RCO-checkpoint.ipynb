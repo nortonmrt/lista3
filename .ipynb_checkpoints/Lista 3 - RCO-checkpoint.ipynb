{
 "cells": [
  {
   "cell_type": "markdown",
   "id": "6796b712",
   "metadata": {},
   "source": [
    "# Questão 1"
   ]
  },
  {
   "cell_type": "markdown",
   "id": "98b3c35a",
   "metadata": {},
   "source": [
    "Nota: o algoritmo aqui mostrado funciona independentemente do número de lâminas ser par ou ímpar."
   ]
  },
  {
   "cell_type": "markdown",
   "id": "e1be32f4",
   "metadata": {},
   "source": [
    "## Bibliotecas utilizadas:"
   ]
  },
  {
   "cell_type": "code",
   "execution_count": 1,
   "id": "a84cfe7c",
   "metadata": {},
   "outputs": [],
   "source": [
    "import numpy as np\n",
    "import math\n",
    "import matplotlib.pyplot as plt\n",
    "\n",
    "# Para mostrar apenas 3 casas decimais\n",
    "np.set_printoptions(precision=3)"
   ]
  },
  {
   "cell_type": "markdown",
   "id": "05887205",
   "metadata": {},
   "source": [
    "## Constantes e dados de entrada:"
   ]
  },
  {
   "cell_type": "code",
   "execution_count": 2,
   "id": "ca774190",
   "metadata": {},
   "outputs": [],
   "source": [
    "# Direções: informar aqui a direção de cada lâmina (em graus), de CIMA para BAIXO em relação ao laminado:\n",
    "direc_deg = [45,0,0,45]\n",
    "\n",
    "# Conversão para radianos\n",
    "direc = np.radians(direc_deg)\n",
    "n = len(direc)\n",
    "\n",
    "#Vetor de carregamentos (elementos não-nulos estão em unidades de N/mm)\n",
    "# Informar aqui os esforços, obedecendo a convenção:\n",
    "#carreg = [[Nx],[Ny],[Nxy],[Mx],[My],[Mxy]]\n",
    "\n",
    "carreg = [[1000*1000],[200*1000],[0],[0],[0],[0]] #N/m\n",
    "\n",
    "#Espessura de cada lâmina (esp): informar \n",
    "esp = 3E-3 #m\n",
    "\n",
    "#Espessura do laminado\n",
    "h = n*esp #m\n",
    "\n",
    "# Dados do material: informar aqui:\n",
    "E11 = 19.76E9 #Pa\n",
    "E22 = 1.97E9 #Pa\n",
    "nu12 = 0.35\n",
    "G12 = 0.7E9 #Pa\n",
    "\n",
    "#Relação entre coeficientes de Poisson\n",
    "nu21 = (E22*nu12)/E11"
   ]
  },
  {
   "cell_type": "markdown",
   "id": "96bd7f24",
   "metadata": {},
   "source": [
    "## Matriz de rigidez reduzida transformada no sistema global de coordenadas:"
   ]
  },
  {
   "cell_type": "code",
   "execution_count": 3,
   "id": "cd908377",
   "metadata": {},
   "outputs": [],
   "source": [
    "Q11 = E11/(1-nu12*nu21)\n",
    "Q22 = E22/(1-nu12*nu21)\n",
    "Q66 = G12\n",
    "Q12 = (nu12*E22)/(1-nu12*nu21)\n",
    "Q21 = Q12\n",
    "\n",
    "Q = np.array([[Q11, Q12, 0],[Q21, Q22, 0], [0, 0, Q66]])\n",
    "cos = np.cos(direc)\n",
    "sin = np.sin(direc)\n",
    "\n",
    "# Inicialização dos vetores\n",
    "T = [[0 for _ in range(1)] for _ in range(n)]\n",
    "T_inv = [[0 for _ in range(1)] for _ in range(n)]\n",
    "Q_dash = [[0 for _ in range(1)] for _ in range(n)]\n",
    "Reuter = [[1,0,0],[0,1,0],[0,0,2]] # Matriz de Reuter\n",
    "\n",
    "# Cálculo da matriz Q_dash para cada uma das lâminas \n",
    "for i in range(n):\n",
    "    T[i] = np.array([[cos[i]**2, sin[i]**2, 2*sin[i]*cos[i]],[sin[i]**2, cos[i]**2, -2*sin[i]*cos[i]],[-sin[i]*cos[i], sin[i]*cos[i], cos[i]**2-sin[i]**2]])\n",
    "    T_inv[i] = np.linalg.inv(T[i])\n",
    "    Q_dash[i] = T_inv[i]@Q@Reuter@T[i]@np.linalg.inv(Reuter)\n",
    "#    print(Q_dash[i])\n"
   ]
  },
  {
   "cell_type": "markdown",
   "id": "cd890dca",
   "metadata": {},
   "source": [
    "## Matriz \"ABBD\":"
   ]
  },
  {
   "cell_type": "code",
   "execution_count": 4,
   "id": "dc38468f",
   "metadata": {},
   "outputs": [
    {
     "name": "stdout",
     "output_type": "stream",
     "text": [
      "Matriz ABBD:\n",
      "[[1.593e+08 3.508e+07 2.701e+07 1.455e-11 0.000e+00 0.000e+00]\n",
      " [3.508e+07 5.126e+07 2.701e+07 0.000e+00 0.000e+00 0.000e+00]\n",
      " [2.701e+07 2.701e+07 3.510e+07 0.000e+00 0.000e+00 0.000e+00]\n",
      " [1.455e-11 0.000e+00 0.000e+00 1.185e+03 6.613e+02 5.673e+02]\n",
      " [0.000e+00 0.000e+00 0.000e+00 6.613e+02 8.610e+02 5.673e+02]\n",
      " [0.000e+00 0.000e+00 0.000e+00 5.673e+02 5.673e+02 6.616e+02]]\n"
     ]
    }
   ],
   "source": [
    "# Matriz A: rigidez à tração e compressão\n",
    "# Inicialização\n",
    "A_local = [[0 for _ in range(1)] for _ in range(n)]\n",
    "A_global = 0\n",
    "\n",
    "for i in range(n):\n",
    "    A_local[i] = Q_dash[i]*(((((n/2)-(i+1))/n)*-h) - (((n/2 - i)/n)*-h))\n",
    "    #A_local[i] = Q_dash[i]*(h/n) # retorna os mesmos resultados, significa que está ok\n",
    "    A_global = A_global + A_local[i]\n",
    "#print(A_global)\n",
    "    \n",
    "# Matriz B: acoplamento entre rigidez no plano e rigidez à flexão\n",
    "B_local = [[0 for _ in range(1)] for _ in range(n)]\n",
    "B_global = 0\n",
    "for i in range(n):\n",
    "    B_local[i] = 0.5*Q_dash[i]*(((((n/2)-(i+1))/n)*-h)**2 - (((n/2 - i)/n)*-h)**2)\n",
    "    B_global = B_global + B_local[i]\n",
    "#print(B_global)\n",
    "\n",
    "# Matriz D: rigidez à flexão ou torção\n",
    "D_local = [[0 for _ in range(1)] for _ in range(n)]\n",
    "D_global = 0\n",
    "for i in range(n):\n",
    "    D_local[i] = (1/3)*Q_dash[i]*(((((n/2)-(i+1))/n)*-h)**3 - (((n/2 - i)/n)*-h)**3)\n",
    "    D_global = D_global + D_local[i]\n",
    "#print(D_global)\n",
    "\n",
    "# Combinando as matrizes em uma só   \n",
    "linha1 = np.vstack((A_global,B_global))\n",
    "linha2 = np.vstack((B_global,D_global))\n",
    "ABBD = np.hstack((linha1,linha2))\n",
    "print(\"Matriz ABBD:\")\n",
    "print(ABBD)"
   ]
  },
  {
   "cell_type": "markdown",
   "id": "0aee776b",
   "metadata": {},
   "source": [
    "Como era esperado, a matriz [B] é nula, já que o laminado é simétrico."
   ]
  },
  {
   "cell_type": "markdown",
   "id": "433a05ec",
   "metadata": {},
   "source": [
    "## Deformações no plano médio e curvatura em relação ao sistema global:"
   ]
  },
  {
   "cell_type": "code",
   "execution_count": 5,
   "id": "7e172fb3",
   "metadata": {},
   "outputs": [
    {
     "name": "stdout",
     "output_type": "stream",
     "text": [
      "[[ 6.874e-03]\n",
      " [ 3.340e-03]\n",
      " [-7.861e-03]\n",
      " [-1.621e-16]\n",
      " [ 7.566e-17]\n",
      " [ 7.412e-17]]\n"
     ]
    }
   ],
   "source": [
    "# Inicialização do vetor\n",
    "def_curv = [[0],[0],[0],[0],[0],[0]]\n",
    "\n",
    "def_curv = np.linalg.inv(ABBD)@carreg\n",
    "\n",
    "epsilon_0_global = np.vstack((def_curv[0],def_curv[1],def_curv[2]))\n",
    "K_global = np.vstack((def_curv[3],def_curv[4],def_curv[5]))\n",
    "\n",
    "print(def_curv)\n"
   ]
  },
  {
   "cell_type": "markdown",
   "id": "013424ab",
   "metadata": {},
   "source": [
    "Percebe-se que os valores de curvatura são muito baixos (podem ser considerados como nulos), o que já era esperado pois não é realizado momento sobre a estrutura. Isso indica que os resultados são condizentes."
   ]
  },
  {
   "cell_type": "markdown",
   "id": "884d7973",
   "metadata": {},
   "source": [
    "## Tensões e deformações em cada lâmina:"
   ]
  },
  {
   "cell_type": "code",
   "execution_count": 6,
   "id": "fc83c459",
   "metadata": {},
   "outputs": [
    {
     "name": "stdout",
     "output_type": "stream",
     "text": [
      "==============================\n",
      "Resultados lâmina 1:\n",
      "Tensão na lâmina no sistema global de coordenadas (MPa): \n",
      "[[26.822]\n",
      " [21.874]\n",
      " [ 5.502]]\n",
      "Tensão na lâmina no sistema local de coordenadas (MPa):\n",
      "[[29.85 ]\n",
      " [18.845]\n",
      " [-2.474]]\n",
      "Deformação no plano médio da lâmina no sistema global de coordenadas:\n",
      "[[ 0.007]\n",
      " [ 0.003]\n",
      " [-0.008]]\n",
      "Deformação no plano médio da lâmina no sistema local de coordenadas:\n",
      "[[-0.003]\n",
      " [ 0.013]\n",
      " [-0.002]]\n",
      "==============================\n",
      "Resultados lâmina 2:\n",
      "Tensão na lâmina no sistema global de coordenadas (MPa): \n",
      "[[139.845]\n",
      " [ 11.46 ]\n",
      " [ -5.502]]\n",
      "Tensão na lâmina no sistema local de coordenadas (MPa):\n",
      "[[139.845]\n",
      " [ 11.46 ]\n",
      " [ -5.502]]\n",
      "Deformação no plano médio da lâmina no sistema global de coordenadas:\n",
      "[[ 0.007]\n",
      " [ 0.003]\n",
      " [-0.008]]\n",
      "Deformação no plano médio da lâmina no sistema local de coordenadas:\n",
      "[[ 0.007]\n",
      " [ 0.003]\n",
      " [-0.008]]\n",
      "==============================\n",
      "Resultados lâmina 3:\n",
      "Tensão na lâmina no sistema global de coordenadas (MPa): \n",
      "[[139.845]\n",
      " [ 11.46 ]\n",
      " [ -5.502]]\n",
      "Tensão na lâmina no sistema local de coordenadas (MPa):\n",
      "[[139.845]\n",
      " [ 11.46 ]\n",
      " [ -5.502]]\n",
      "Deformação no plano médio da lâmina no sistema global de coordenadas:\n",
      "[[ 0.007]\n",
      " [ 0.003]\n",
      " [-0.008]]\n",
      "Deformação no plano médio da lâmina no sistema local de coordenadas:\n",
      "[[ 0.007]\n",
      " [ 0.003]\n",
      " [-0.008]]\n",
      "==============================\n",
      "Resultados lâmina 4:\n",
      "Tensão na lâmina no sistema global de coordenadas (MPa): \n",
      "[[26.822]\n",
      " [21.874]\n",
      " [ 5.502]]\n",
      "Tensão na lâmina no sistema local de coordenadas (MPa):\n",
      "[[29.85 ]\n",
      " [18.845]\n",
      " [-2.474]]\n",
      "Deformação no plano médio da lâmina no sistema global de coordenadas:\n",
      "[[ 0.007]\n",
      " [ 0.003]\n",
      " [-0.008]]\n",
      "Deformação no plano médio da lâmina no sistema local de coordenadas:\n",
      "[[-0.003]\n",
      " [ 0.013]\n",
      " [-0.002]]\n"
     ]
    }
   ],
   "source": [
    "\n",
    "# Tensões e deformações em cada lâmina (coordenadas z referenciadas no plano médio de cada lâmina)\n",
    "sigma_global = [[0 for _ in range(1)] for _ in range(n)]\n",
    "sigma_local = [[0 for _ in range(1)] for _ in range(n)]\n",
    "z = [[0 for _ in range(1)] for _ in range(n)]\n",
    "epsilon_global = [[0 for _ in range(1)] for _ in range(n)]\n",
    "epsilon_local = [[0 for _ in range(1)] for _ in range(n)]\n",
    "y = [[0 for _ in range(1)] for _ in range(n)]\n",
    "\n",
    "for i in range(n):\n",
    "    z[i] = 0.5*(((((n/2)-(i+1))/n)*-h) + (((n/2 - i)/n)*-h))\n",
    "    sigma_global[i] = (Q_dash[i]@(epsilon_0_global + (z[i]*K_global)))*10**(-6)\n",
    "    print(\"==============================\")\n",
    "    print(\"Resultados lâmina %d:\" %(i+1))\n",
    "    print(\"Tensão na lâmina no sistema global de coordenadas (MPa): \")\n",
    "    print(sigma_global[i])\n",
    "    sigma_local[i] = T[i]@sigma_global[i]\n",
    "    print(\"Tensão na lâmina no sistema local de coordenadas (MPa):\")\n",
    "    print(sigma_local[i])\n",
    "    epsilon_global[i] = epsilon_0_global + z[i]*K_global\n",
    "    print(\"Deformação no plano médio da lâmina no sistema global de coordenadas:\")\n",
    "    print(epsilon_global[i])\n",
    "    epsilon_local[i] = T[i]@epsilon_global[i]\n",
    "    print(\"Deformação no plano médio da lâmina no sistema local de coordenadas:\")\n",
    "    print(epsilon_local[i])\n",
    "\n",
    "\n",
    "    "
   ]
  },
  {
   "cell_type": "markdown",
   "id": "8f89b3b0",
   "metadata": {},
   "source": [
    "# Questão 2"
   ]
  },
  {
   "cell_type": "markdown",
   "id": "aaf14f38",
   "metadata": {},
   "source": [
    "## Constantes e dados de entrada:"
   ]
  },
  {
   "cell_type": "code",
   "execution_count": 7,
   "id": "45165ef9",
   "metadata": {},
   "outputs": [],
   "source": [
    "# Direções: informar aqui a direção de cada lâmina (em graus), de CIMA para BAIXO em relação ao laminado:\n",
    "direc_deg = [0,45,90,0,45,90]\n",
    "\n",
    "# Conversão para radianos\n",
    "direc = np.radians(direc_deg)\n",
    "n = len(direc)\n",
    "\n",
    "#Vetor de carregamentos (elementos não-nulos estão em unidades de N/mm)\n",
    "# Informar aqui os esforços, obedecendo a convenção:\n",
    "#carreg = [[Nx],[Ny],[Nxy],[Mx],[My],[Mxy]]\n",
    "\n",
    "carreg = [[100*1000],[0],[0],[0],[0],[0]] #N/m\n",
    "\n",
    "#Espessura de cada lâmina (esp): informar \n",
    "esp = 3E-4 #m\n",
    "\n",
    "#Espessura do laminado\n",
    "h = n*esp #m\n",
    "\n",
    "\n",
    "# Dados do material: informar aqui:\n",
    "E11 = 155000E6 #Pa\n",
    "E22 = 12100E6 #Pa\n",
    "nu12 = 0.35\n",
    "G12 = 4400E6 #Pa\n",
    "\n",
    "#Relação entre coeficientes de Poisson\n",
    "nu21 = (E22*nu12)/E11"
   ]
  },
  {
   "cell_type": "markdown",
   "id": "cfa7ac8c",
   "metadata": {},
   "source": [
    "## Matriz de rigidez reduzida transformada no sistema global de coordenadas:"
   ]
  },
  {
   "cell_type": "code",
   "execution_count": 8,
   "id": "cd908377",
   "metadata": {},
   "outputs": [],
   "source": [
    "Q11 = E11/(1-nu12*nu21)\n",
    "Q22 = E22/(1-nu12*nu21)\n",
    "Q66 = G12\n",
    "Q12 = (nu12*E22)/(1-nu12*nu21)\n",
    "Q21 = Q12\n",
    "\n",
    "Q = np.array([[Q11, Q12, 0],[Q21, Q22, 0], [0, 0, Q66]])\n",
    "cos = np.cos(direc)\n",
    "sin = np.sin(direc)\n",
    "\n",
    "# Inicialização dos vetores\n",
    "T = [[0 for _ in range(1)] for _ in range(n)]\n",
    "T_inv = [[0 for _ in range(1)] for _ in range(n)]\n",
    "Q_dash = [[0 for _ in range(1)] for _ in range(n)]\n",
    "Q_26 = [[0 for _ in range(1)] for _ in range(n)]\n",
    "Reuter = [[1,0,0],[0,1,0],[0,0,2]]\n",
    "\n",
    "# Cálculo da matriz Q_dash para cada uma das lâminas \n",
    "for i in range(n):\n",
    "    T[i] = np.array([[cos[i]**2, sin[i]**2, 2*sin[i]*cos[i]],[sin[i]**2, cos[i]**2, -2*sin[i]*cos[i]],[-sin[i]*cos[i], sin[i]*cos[i], cos[i]**2-sin[i]**2]])\n",
    "    T_inv[i] = np.linalg.inv(T[i])\n",
    "    Q_dash[i] = T_inv[i]@Q@Reuter@T[i]@np.linalg.inv(Reuter)\n",
    "#    print(Q_dash[i])"
   ]
  },
  {
   "cell_type": "markdown",
   "id": "cd890dca",
   "metadata": {},
   "source": [
    "## Matriz \"ABBD\":"
   ]
  },
  {
   "cell_type": "code",
   "execution_count": 9,
   "id": "dc38468f",
   "metadata": {},
   "outputs": [
    {
     "name": "stdout",
     "output_type": "stream",
     "text": [
      "Matriz ABBD:\n",
      "[[ 1.305e+08  2.908e+07  2.164e+07 -2.597e+04  2.274e-13  1.184e-14]\n",
      " [ 2.908e+07  1.305e+08  2.164e+07  2.274e-13  2.597e+04  1.976e-12]\n",
      " [ 2.164e+07  2.164e+07  2.930e+07  1.184e-14  1.976e-12  1.137e-13]\n",
      " [-2.597e+04  2.274e-13  1.184e-14  3.651e+01  6.569e+00  4.545e+00]\n",
      " [ 2.274e-13  2.597e+04  1.976e-12  6.569e+00  3.651e+01  4.545e+00]\n",
      " [ 1.184e-14  1.976e-12  1.137e-13  4.545e+00  4.545e+00  6.629e+00]]\n"
     ]
    }
   ],
   "source": [
    "# Matriz A: rigidez à tração e compressão\n",
    "# Inicialização\n",
    "A_local = [[0 for _ in range(1)] for _ in range(n)]\n",
    "A_global = 0\n",
    "\n",
    "for i in range(n):\n",
    "    A_local[i] = Q_dash[i]*(((((n/2)-(i+1))/n)*-h) - (((n/2 - i)/n)*-h))\n",
    "    #A_local[i] = Q_dash[i]*(h/n) # retorna os mesmos resultados, significa que está ok\n",
    "    A_global = A_global + A_local[i]\n",
    "#print(A_global)\n",
    "    \n",
    "# Matriz B: acoplamento entre rigidez no plano e rigidez à flexão\n",
    "B_local = [[0 for _ in range(1)] for _ in range(n)]\n",
    "B_global = 0\n",
    "for i in range(n):\n",
    "    B_local[i] = 0.5*Q_dash[i]*(((((n/2)-(i+1))/n)*-h)**2 - (((n/2 - i)/n)*-h)**2)\n",
    "    #print(((((n/2)-(i+1))/n)*-h)) #- (((n/2 - i)/n)*-h)**2)\n",
    "    B_global = B_global + B_local[i]\n",
    "#print(B_global)\n",
    "\n",
    "# Matriz D: rigidez à flexão ou torção\n",
    "D_local = [[0 for _ in range(1)] for _ in range(n)]\n",
    "D_global = 0\n",
    "for i in range(n):\n",
    "    D_local[i] = (1/3)*Q_dash[i]*(((((n/2)-(i+1))/n)*-h)**3 - (((n/2 - i)/n)*-h)**3)\n",
    "    D_global = D_global + D_local[i]\n",
    "#print(D_global)\n",
    "\n",
    "# Combinando as matrizes em uma só   \n",
    "linha1 = np.vstack((A_global,B_global))\n",
    "linha2 = np.vstack((B_global,D_global))\n",
    "ABBD = np.hstack((linha1,linha2))\n",
    "print(\"Matriz ABBD:\")\n",
    "print(ABBD)"
   ]
  },
  {
   "cell_type": "markdown",
   "id": "ea33a4e7",
   "metadata": {},
   "source": [
    "Obs: os elementos de expoente negativo muito alto ($10^{-13}$, $10^{-14}$ etc.) podem ser considerados nulos."
   ]
  },
  {
   "cell_type": "markdown",
   "id": "433a05ec",
   "metadata": {},
   "source": [
    "## Deformações no plano médio e curvatura em relação ao sistema global:"
   ]
  },
  {
   "cell_type": "code",
   "execution_count": 10,
   "id": "7e172fb3",
   "metadata": {},
   "outputs": [
    {
     "name": "stdout",
     "output_type": "stream",
     "text": [
      "Matriz deformação/curvatura:\n",
      "[[ 1.078e-03]\n",
      " [-1.259e-04]\n",
      " [-7.031e-04]\n",
      " [ 8.372e-01]\n",
      " [ 1.135e-02]\n",
      " [-5.817e-01]]\n"
     ]
    }
   ],
   "source": [
    "# Inicialização do vetor\n",
    "def_curv = [[0],[0],[0],[0],[0],[0]]\n",
    "\n",
    "def_curv = np.linalg.inv(ABBD)@carreg\n",
    "\n",
    "epsilon_0_global = np.vstack((def_curv[0],def_curv[1],def_curv[2]))\n",
    "K_global = np.vstack((def_curv[3],def_curv[4],def_curv[5]))\n",
    "\n",
    "print(\"Matriz deformação/curvatura:\")\n",
    "print(def_curv)\n"
   ]
  },
  {
   "cell_type": "markdown",
   "id": "884d7973",
   "metadata": {},
   "source": [
    "## Tensões e deformações em cada lâmina:"
   ]
  },
  {
   "cell_type": "code",
   "execution_count": 11,
   "id": "fc83c459",
   "metadata": {},
   "outputs": [
    {
     "name": "stdout",
     "output_type": "stream",
     "text": [
      "==============================\n",
      "Resultados lâmina 1:\n",
      "Tensão na lâmina no sistema global de coordenadas (MPa): \n",
      "[[69.85 ]\n",
      " [ 0.282]\n",
      " [-1.174]]\n",
      "Tensão na lâmina no sistema local de coordenadas (MPa):\n",
      "[[69.85 ]\n",
      " [ 0.282]\n",
      " [-1.174]]\n",
      "Deformação no plano médio da lâmina no sistema global de coordenadas:\n",
      "[[ 0.00045 ]\n",
      " [-0.000134]\n",
      " [-0.000267]]\n",
      "Deformação no plano médio da lâmina no sistema local de coordenadas:\n",
      "[[ 0.00045 ]\n",
      " [-0.000134]\n",
      " [-0.000267]]\n",
      "==============================\n",
      "Resultados lâmina 2:\n",
      "Tensão na lâmina no sistema global de coordenadas (MPa): \n",
      "[[13.011]\n",
      " [ 5.688]\n",
      " [ 2.896]]\n",
      "Tensão na lâmina no sistema local de coordenadas (MPa):\n",
      "[[12.246]\n",
      " [ 6.454]\n",
      " [-3.662]]\n",
      "Deformação no plano médio da lâmina no sistema global de coordenadas:\n",
      "[[ 0.000701]\n",
      " [-0.000131]\n",
      " [-0.000441]]\n",
      "Deformação no plano médio da lâmina no sistema local de coordenadas:\n",
      "[[-0.000156]\n",
      " [ 0.000726]\n",
      " [-0.000416]]\n",
      "==============================\n",
      "Resultados lâmina 3:\n",
      "Tensão na lâmina no sistema global de coordenadas (MPa): \n",
      "[[ 11.089]\n",
      " [-15.898]\n",
      " [ -2.71 ]]\n",
      "Tensão na lâmina no sistema local de coordenadas (MPa):\n",
      "[[-15.898]\n",
      " [ 11.089]\n",
      " [  2.71 ]]\n",
      "Deformação no plano médio da lâmina no sistema global de coordenadas:\n",
      "[[ 0.000952]\n",
      " [-0.000128]\n",
      " [-0.000616]]\n",
      "Deformação no plano médio da lâmina no sistema local de coordenadas:\n",
      "[[-0.000128]\n",
      " [ 0.000952]\n",
      " [ 0.000616]]\n",
      "==============================\n",
      "Resultados lâmina 4:\n",
      "Tensão na lâmina no sistema global de coordenadas (MPa): \n",
      "[[187.807]\n",
      " [  3.629]\n",
      " [ -3.477]]\n",
      "Tensão na lâmina no sistema local de coordenadas (MPa):\n",
      "[[187.807]\n",
      " [  3.629]\n",
      " [ -3.477]]\n",
      "Deformação no plano médio da lâmina no sistema global de coordenadas:\n",
      "[[ 0.001203]\n",
      " [-0.000124]\n",
      " [-0.00079 ]]\n",
      "Deformação no plano médio da lâmina no sistema local de coordenadas:\n",
      "[[ 0.001203]\n",
      " [-0.000124]\n",
      " [-0.00079 ]]\n",
      "==============================\n",
      "Resultados lâmina 5:\n",
      "Tensão na lâmina no sistema global de coordenadas (MPa): \n",
      "[[31.24 ]\n",
      " [17.376]\n",
      " [ 9.478]]\n",
      "Tensão na lâmina no sistema local de coordenadas (MPa):\n",
      "[[33.786]\n",
      " [14.83 ]\n",
      " [-6.932]]\n",
      "Deformação no plano médio da lâmina no sistema global de coordenadas:\n",
      "[[ 0.001455]\n",
      " [-0.000121]\n",
      " [-0.000965]]\n",
      "Deformação no plano médio da lâmina no sistema local de coordenadas:\n",
      "[[-0.000298]\n",
      " [ 0.001632]\n",
      " [-0.000788]]\n",
      "==============================\n",
      "Resultados lâmina 6:\n",
      "Tensão na lâmina no sistema global de coordenadas (MPa): \n",
      "[[ 20.337]\n",
      " [-11.077]\n",
      " [ -5.013]]\n",
      "Tensão na lâmina no sistema local de coordenadas (MPa):\n",
      "[[-11.077]\n",
      " [ 20.337]\n",
      " [  5.013]]\n",
      "Deformação no plano médio da lâmina no sistema global de coordenadas:\n",
      "[[ 0.001706]\n",
      " [-0.000117]\n",
      " [-0.001139]]\n",
      "Deformação no plano médio da lâmina no sistema local de coordenadas:\n",
      "[[-0.000117]\n",
      " [ 0.001706]\n",
      " [ 0.001139]]\n"
     ]
    }
   ],
   "source": [
    "\n",
    "# Tensões e deformações em cada lâmina (coordenadas z referenciadas no plano médio de cada lâmina)\n",
    "sigma_global = [[0 for _ in range(1)] for _ in range(n)]\n",
    "sigma_local = [[0 for _ in range(1)] for _ in range(n)]\n",
    "z = [[0 for _ in range(1)] for _ in range(n)]\n",
    "epsilon_global = [[0 for _ in range(1)] for _ in range(n)]\n",
    "epsilon_local = [[0 for _ in range(1)] for _ in range(n)]\n",
    "y = [[0 for _ in range(1)] for _ in range(n)]\n",
    "\n",
    "for i in range(n):\n",
    "    z[i] = 0.5*(((((n/2)-(i+1))/n)*-h) + (((n/2 - i)/n)*-h))\n",
    "    np.set_printoptions(precision=3)\n",
    "    sigma_global[i] = (Q_dash[i]@(epsilon_0_global + (z[i]*K_global)))*10**(-6)\n",
    "    print(\"==============================\")\n",
    "    print(\"Resultados lâmina %d:\" %(i+1))\n",
    "    print(\"Tensão na lâmina no sistema global de coordenadas (MPa): \")\n",
    "    print(sigma_global[i])\n",
    "    sigma_local[i] = T[i]@sigma_global[i]\n",
    "    print(\"Tensão na lâmina no sistema local de coordenadas (MPa):\")\n",
    "    print(sigma_local[i])\n",
    "    \n",
    "    np.set_printoptions(precision=6)\n",
    "    epsilon_global[i] = epsilon_0_global + z[i]*K_global\n",
    "    print(\"Deformação no plano médio da lâmina no sistema global de coordenadas:\")\n",
    "    print(epsilon_global[i])\n",
    "    epsilon_local[i] = T[i]@epsilon_global[i]\n",
    "    print(\"Deformação no plano médio da lâmina no sistema local de coordenadas:\")\n",
    "    print(epsilon_local[i])\n",
    "\n",
    "\n",
    "    "
   ]
  },
  {
   "cell_type": "markdown",
   "id": "be290f5d",
   "metadata": {},
   "source": [
    "## Rascunhos"
   ]
  },
  {
   "cell_type": "code",
   "execution_count": 12,
   "id": "57f92817",
   "metadata": {},
   "outputs": [],
   "source": [
    "### Teste se o resultado era o mesmo pra ABBD\n",
    "\n",
    "# def_curv_2 = [[0],[0],[0],[0],[0],[0]]\n",
    "\n",
    "# A_est = np.linalg.inv(A_global)\n",
    "# B_est = -1*np.linalg.inv(A_global)@B_global\n",
    "# C_est = B_global@np.linalg.inv(A_global)\n",
    "# D_est = D_global-B_global@np.linalg.inv(A_global)@B_global\n",
    "\n",
    "# A_ap = A_est-B_est@np.linalg.inv(D_est)@C_est\n",
    "# B_ap = B_est@np.linalg.inv(D_est)\n",
    "# C_ap = B_ap\n",
    "# D_ap = np.linalg.inv(D_est)\n",
    "\n",
    "# print(B_ap)\n",
    "\n",
    "# linha1_2 = np.vstack((A_ap,B_ap))\n",
    "# linha2_2 = np.vstack((C_ap,D_ap))\n",
    "# ABBD_2 = np.hstack((linha1_2,linha2_2))\n",
    "\n",
    "# def_curv_2 = ABBD_2@carreg\n",
    "# print(def_curv)\n",
    "# print(def_curv_2)\n",
    "\n",
    "\n",
    "\n",
    "\n",
    "# y[i] = epsilon_local[i][1]\n",
    "    \n",
    "# plt.figure()\n",
    "# plt.plot(z, y)"
   ]
  }
 ],
 "metadata": {
  "kernelspec": {
   "display_name": "Python 3",
   "language": "python",
   "name": "python3"
  },
  "language_info": {
   "codemirror_mode": {
    "name": "ipython",
    "version": 3
   },
   "file_extension": ".py",
   "mimetype": "text/x-python",
   "name": "python",
   "nbconvert_exporter": "python",
   "pygments_lexer": "ipython3",
   "version": "3.8.8"
  },
  "vscode": {
   "interpreter": {
    "hash": "108e5f22bfb80c194968c4d8788f0cbe4cd0be3d6d353645b9b42c2d56b0e8e7"
   }
  }
 },
 "nbformat": 4,
 "nbformat_minor": 5
}
